{
  "nbformat": 4,
  "nbformat_minor": 0,
  "metadata": {
    "colab": {
      "name": "Insurance prediction.ipynb",
      "provenance": [],
      "collapsed_sections": []
    },
    "kernelspec": {
      "name": "python3",
      "display_name": "Python 3"
    },
    "language_info": {
      "name": "python"
    }
  },
  "cells": [
    {
      "cell_type": "markdown",
      "metadata": {
        "id": "R1iARU6mtp9_"
      },
      "source": [
        "# Importing required libraries"
      ]
    },
    {
      "cell_type": "code",
      "metadata": {
        "id": "J1btFX7j2aa-"
      },
      "source": [
        "import pandas as pd\n",
        "import seaborn as sns\n",
        "import matplotlib.pyplot as plt\n",
        "from sklearn.preprocessing import LabelEncoder\n",
        "from sklearn.model_selection import train_test_split\n",
        "from sklearn.linear_model import LinearRegression\n",
        "from sklearn.metrics import r2_score"
      ],
      "execution_count": 78,
      "outputs": []
    },
    {
      "cell_type": "code",
      "metadata": {
        "colab": {
          "base_uri": "https://localhost:8080/",
          "height": 204
        },
        "id": "r46Kat3TUL19",
        "outputId": "8b0d0c4c-8720-4a2f-eb94-f82335beff57"
      },
      "source": [
        "insurancedf=pd.read_csv(\"/content/insurance.csv\")\n",
        "insurancedf.head()"
      ],
      "execution_count": 59,
      "outputs": [
        {
          "output_type": "execute_result",
          "data": {
            "text/html": [
              "<div>\n",
              "<style scoped>\n",
              "    .dataframe tbody tr th:only-of-type {\n",
              "        vertical-align: middle;\n",
              "    }\n",
              "\n",
              "    .dataframe tbody tr th {\n",
              "        vertical-align: top;\n",
              "    }\n",
              "\n",
              "    .dataframe thead th {\n",
              "        text-align: right;\n",
              "    }\n",
              "</style>\n",
              "<table border=\"1\" class=\"dataframe\">\n",
              "  <thead>\n",
              "    <tr style=\"text-align: right;\">\n",
              "      <th></th>\n",
              "      <th>age</th>\n",
              "      <th>sex</th>\n",
              "      <th>bmi</th>\n",
              "      <th>children</th>\n",
              "      <th>smoker</th>\n",
              "      <th>region</th>\n",
              "      <th>charges</th>\n",
              "    </tr>\n",
              "  </thead>\n",
              "  <tbody>\n",
              "    <tr>\n",
              "      <th>0</th>\n",
              "      <td>19</td>\n",
              "      <td>female</td>\n",
              "      <td>27.900</td>\n",
              "      <td>0</td>\n",
              "      <td>yes</td>\n",
              "      <td>southwest</td>\n",
              "      <td>16884.92400</td>\n",
              "    </tr>\n",
              "    <tr>\n",
              "      <th>1</th>\n",
              "      <td>18</td>\n",
              "      <td>male</td>\n",
              "      <td>33.770</td>\n",
              "      <td>1</td>\n",
              "      <td>no</td>\n",
              "      <td>southeast</td>\n",
              "      <td>1725.55230</td>\n",
              "    </tr>\n",
              "    <tr>\n",
              "      <th>2</th>\n",
              "      <td>28</td>\n",
              "      <td>male</td>\n",
              "      <td>33.000</td>\n",
              "      <td>3</td>\n",
              "      <td>no</td>\n",
              "      <td>southeast</td>\n",
              "      <td>4449.46200</td>\n",
              "    </tr>\n",
              "    <tr>\n",
              "      <th>3</th>\n",
              "      <td>33</td>\n",
              "      <td>male</td>\n",
              "      <td>22.705</td>\n",
              "      <td>0</td>\n",
              "      <td>no</td>\n",
              "      <td>northwest</td>\n",
              "      <td>21984.47061</td>\n",
              "    </tr>\n",
              "    <tr>\n",
              "      <th>4</th>\n",
              "      <td>32</td>\n",
              "      <td>male</td>\n",
              "      <td>28.880</td>\n",
              "      <td>0</td>\n",
              "      <td>no</td>\n",
              "      <td>northwest</td>\n",
              "      <td>3866.85520</td>\n",
              "    </tr>\n",
              "  </tbody>\n",
              "</table>\n",
              "</div>"
            ],
            "text/plain": [
              "   age     sex     bmi  children smoker     region      charges\n",
              "0   19  female  27.900         0    yes  southwest  16884.92400\n",
              "1   18    male  33.770         1     no  southeast   1725.55230\n",
              "2   28    male  33.000         3     no  southeast   4449.46200\n",
              "3   33    male  22.705         0     no  northwest  21984.47061\n",
              "4   32    male  28.880         0     no  northwest   3866.85520"
            ]
          },
          "metadata": {},
          "execution_count": 59
        }
      ]
    },
    {
      "cell_type": "markdown",
      "metadata": {
        "id": "TsFoPCLbWB63"
      },
      "source": [
        "# Preprocessing the data"
      ]
    },
    {
      "cell_type": "code",
      "metadata": {
        "colab": {
          "base_uri": "https://localhost:8080/"
        },
        "id": "3FQ8_w0bVLtg",
        "outputId": "bf838481-70bb-4fb8-879f-9b60dac8c192"
      },
      "source": [
        "#checking for null values\n",
        "insurancedf.isnull().sum()"
      ],
      "execution_count": 60,
      "outputs": [
        {
          "output_type": "execute_result",
          "data": {
            "text/plain": [
              "age         0\n",
              "sex         0\n",
              "bmi         0\n",
              "children    0\n",
              "smoker      0\n",
              "region      0\n",
              "charges     0\n",
              "dtype: int64"
            ]
          },
          "metadata": {},
          "execution_count": 60
        }
      ]
    },
    {
      "cell_type": "code",
      "metadata": {
        "colab": {
          "base_uri": "https://localhost:8080/"
        },
        "id": "WgFvQjWFWXi_",
        "outputId": "bc04f544-1799-4ede-912a-b508e9b3cd9b"
      },
      "source": [
        "#checking for duplicates\n",
        "print('total no. of duplicates: ',insurancedf.duplicated().sum())\n",
        "#dropping duplicates\n",
        "new_insurancedf= insurancedf.drop_duplicates(keep='first')\n",
        "print('total no. of duplicates in new dataframe: ',new_insurancedf.duplicated().sum())"
      ],
      "execution_count": 61,
      "outputs": [
        {
          "output_type": "stream",
          "name": "stdout",
          "text": [
            "total no. of duplicates:  1\n",
            "total no. of duplicates in new dataframe:  0\n"
          ]
        }
      ]
    },
    {
      "cell_type": "code",
      "metadata": {
        "colab": {
          "base_uri": "https://localhost:8080/"
        },
        "id": "P9V_cTgjYVUo",
        "outputId": "522818b2-6850-48ae-ab9b-9f80402e06c6"
      },
      "source": [
        "#there are three categorical variables which can be converted using encoding \n",
        "le = LabelEncoder()\n",
        "le.fit(new_insurancedf.sex)\n",
        "new_insurancedf.sex=le.transform(new_insurancedf.sex )\n",
        "# smoker \n",
        "le.fit(new_insurancedf.smoker)\n",
        "new_insurancedf.smoker=le.transform(new_insurancedf.smoker )\n",
        "# region \n",
        "le.fit(new_insurancedf.region)\n",
        "new_insurancedf.region=le.transform(new_insurancedf.region )\n"
      ],
      "execution_count": 62,
      "outputs": [
        {
          "output_type": "stream",
          "name": "stderr",
          "text": [
            "/usr/local/lib/python3.7/dist-packages/pandas/core/generic.py:5170: SettingWithCopyWarning: \n",
            "A value is trying to be set on a copy of a slice from a DataFrame.\n",
            "Try using .loc[row_indexer,col_indexer] = value instead\n",
            "\n",
            "See the caveats in the documentation: https://pandas.pydata.org/pandas-docs/stable/user_guide/indexing.html#returning-a-view-versus-a-copy\n",
            "  self[name] = value\n"
          ]
        }
      ]
    },
    {
      "cell_type": "code",
      "metadata": {
        "colab": {
          "base_uri": "https://localhost:8080/",
          "height": 300
        },
        "id": "X_iQOFYde25t",
        "outputId": "064d296e-f783-48e9-c8eb-cf3555790481"
      },
      "source": [
        "ax = sns.heatmap(new_insurancedf.corr(),annot=True)"
      ],
      "execution_count": 63,
      "outputs": [
        {
          "output_type": "display_data",
          "data": {
            "image/png": "[encoded data removed]",
            "text/plain": [
              "<Figure size 432x288 with 2 Axes>"
            ]
          },
          "metadata": {
            "needs_background": "light"
          }
        }
      ]
    },
    {
      "cell_type": "markdown",
      "metadata": {
        "id": "VfgmGrcmoy2D"
      },
      "source": [
        "From the given heatmap we can see that the correlation of chargers with smoker, bmi and age is prominent "
      ]
    },
    {
      "cell_type": "code",
      "metadata": {
        "id": "KAIUatWzvfCW"
      },
      "source": [
        "#dropping the region column from the dataframe\n",
        "new_insurancedf=new_insurancedf.drop(['region'],axis=1)"
      ],
      "execution_count": 65,
      "outputs": []
    },
    {
      "cell_type": "code",
      "metadata": {
        "colab": {
          "base_uri": "https://localhost:8080/",
          "height": 386
        },
        "id": "BZ5lJ1E3nHQZ",
        "outputId": "09f50249-b01e-4dd5-d64a-aded980c2b49"
      },
      "source": [
        "sns.catplot(x=\"smoker\",y=\"charges\",data=new_insurancedf,kind=\"box\")"
      ],
      "execution_count": 66,
      "outputs": [
        {
          "output_type": "execute_result",
          "data": {
            "text/plain": [
              "<seaborn.axisgrid.FacetGrid at 0x7fac4add7b50>"
            ]
          },
          "metadata": {},
          "execution_count": 66
        },
        {
          "output_type": "display_data",
          "data": {
            "image/png": "[encoded data removed]",
            "text/plain": [
              "<Figure size 360x360 with 1 Axes>"
            ]
          },
          "metadata": {
            "needs_background": "light"
          }
        }
      ]
    },
    {
      "cell_type": "code",
      "metadata": {
        "colab": {
          "base_uri": "https://localhost:8080/",
          "height": 296
        },
        "id": "y4000WV-1Dh8",
        "outputId": "f0704a7c-526c-46ab-a1db-d50e98914e4a"
      },
      "source": [
        "sns.histplot(x=\"bmi\", y='charges' , data=new_insurancedf)"
      ],
      "execution_count": 73,
      "outputs": [
        {
          "output_type": "execute_result",
          "data": {
            "text/plain": [
              "<matplotlib.axes._subplots.AxesSubplot at 0x7fac4ac9b290>"
            ]
          },
          "metadata": {},
          "execution_count": 73
        },
        {
          "output_type": "display_data",
          "data": {
            "image/png": "[encoded data removed]",
            "text/plain": [
              "<Figure size 432x288 with 1 Axes>"
            ]
          },
          "metadata": {
            "needs_background": "light"
          }
        }
      ]
    },
    {
      "cell_type": "markdown",
      "metadata": {
        "id": "zzT70c1bd1p9"
      },
      "source": [
        "Splitting the target and features"
      ]
    },
    {
      "cell_type": "code",
      "metadata": {
        "id": "JzPVMB8FWwNb"
      },
      "source": [
        "y=new_insurancedf['charges']\n",
        "x=new_insurancedf.iloc[:,:-1]"
      ],
      "execution_count": 67,
      "outputs": []
    },
    {
      "cell_type": "markdown",
      "metadata": {
        "id": "Kx1sfmTKpyH5"
      },
      "source": [
        "training set and testing set"
      ]
    },
    {
      "cell_type": "code",
      "metadata": {
        "id": "ddXmGB1Ypvtu"
      },
      "source": [
        "x_train, x_test, y_train,y_test=train_test_split(x,y,test_size=0.2)"
      ],
      "execution_count": 68,
      "outputs": []
    },
    {
      "cell_type": "markdown",
      "metadata": {
        "id": "dnnd3F2dsJC2"
      },
      "source": [
        "# Model training "
      ]
    },
    {
      "cell_type": "code",
      "metadata": {
        "colab": {
          "base_uri": "https://localhost:8080/"
        },
        "id": "ZnlqTQHQrlM4",
        "outputId": "4b003520-a107-4cbf-e853-20b0c1933493"
      },
      "source": [
        "model = LinearRegression()\n",
        "model.fit(x_train,y_train)"
      ],
      "execution_count": 69,
      "outputs": [
        {
          "output_type": "execute_result",
          "data": {
            "text/plain": [
              "LinearRegression(copy_X=True, fit_intercept=True, n_jobs=None, normalize=False)"
            ]
          },
          "metadata": {},
          "execution_count": 69
        }
      ]
    },
    {
      "cell_type": "code",
      "metadata": {
        "id": "sb_jIVj4sL1W"
      },
      "source": [
        "predictions= model.predict(x_test)\n",
        "scores =r2_score(y_test,predictions)"
      ],
      "execution_count": 70,
      "outputs": []
    },
    {
      "cell_type": "markdown",
      "metadata": {
        "id": "EWLM0HBJ7sHf"
      },
      "source": [
        "#Visualizing the regression"
      ]
    },
    {
      "cell_type": "code",
      "metadata": {
        "colab": {
          "base_uri": "https://localhost:8080/",
          "height": 287
        },
        "id": "An3Fm4Tt6T-X",
        "outputId": "7970ad8c-198d-43a2-da36-b2ef47a55a4b"
      },
      "source": [
        "plt.scatter(y_test, predictions, c='crimson')\n",
        "\n",
        "\n",
        "p1 = max(max(predictions), max(y_test))\n",
        "p2 = min(min(predictions), min(y_test))\n",
        "plt.plot([p1, p2], [p1, p2], 'b-') #perfect regression \n",
        "plt.xlabel('True Values', fontsize=15)\n",
        "plt.ylabel('Predictions', fontsize=15)\n",
        "plt.axis('equal')\n",
        "plt.show()"
      ],
      "execution_count": 82,
      "outputs": [
        {
          "output_type": "display_data",
          "data": {
            "image/png": "[encoded data removed]",
            "text/plain": [
              "<Figure size 432x288 with 1 Axes>"
            ]
          },
          "metadata": {
            "needs_background": "light"
          }
        }
      ]
    },
    {
      "cell_type": "markdown",
      "metadata": {
        "id": "Jl9jNVRR8u_5"
      },
      "source": [
        "# Model Score"
      ]
    },
    {
      "cell_type": "code",
      "metadata": {
        "colab": {
          "base_uri": "https://localhost:8080/"
        },
        "id": "qGsI6auktCMw",
        "outputId": "ed6e8b5c-8da1-4abf-850d-67529c688cf1"
      },
      "source": [
        "print('Model used: ',model)\n",
        "print('R2 score of model= ',scores)"
      ],
      "execution_count": 71,
      "outputs": [
        {
          "output_type": "stream",
          "name": "stdout",
          "text": [
            "Model used:  LinearRegression(copy_X=True, fit_intercept=True, n_jobs=None, normalize=False)\n",
            "R2 score of model=  0.7229861073743131\n"
          ]
        }
      ]
    }
  ]
}